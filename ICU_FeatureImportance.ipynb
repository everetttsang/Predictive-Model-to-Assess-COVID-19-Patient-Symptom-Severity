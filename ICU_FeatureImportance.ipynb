{
 "cells": [
  {
   "cell_type": "code",
   "execution_count": 2,
   "metadata": {},
   "outputs": [
    {
     "data": {
      "text/html": [
       "<div>\n",
       "<style scoped>\n",
       "    .dataframe tbody tr th:only-of-type {\n",
       "        vertical-align: middle;\n",
       "    }\n",
       "\n",
       "    .dataframe tbody tr th {\n",
       "        vertical-align: top;\n",
       "    }\n",
       "\n",
       "    .dataframe thead th {\n",
       "        text-align: right;\n",
       "    }\n",
       "</style>\n",
       "<table border=\"1\" class=\"dataframe\">\n",
       "  <thead>\n",
       "    <tr style=\"text-align: right;\">\n",
       "      <th></th>\n",
       "      <th>FECHA_ACTUALIZACION</th>\n",
       "      <th>ID_REGISTRO</th>\n",
       "      <th>ORIGEN</th>\n",
       "      <th>SECTOR</th>\n",
       "      <th>ENTIDAD_UM</th>\n",
       "      <th>SEXO</th>\n",
       "      <th>ENTIDAD_NAC</th>\n",
       "      <th>ENTIDAD_RES</th>\n",
       "      <th>MUNICIPIO_RES</th>\n",
       "      <th>TIPO_PACIENTE</th>\n",
       "      <th>...</th>\n",
       "      <th>RENAL_CRONICA</th>\n",
       "      <th>TABAQUISMO</th>\n",
       "      <th>OTRO_CASO</th>\n",
       "      <th>TOMA_MUESTRA</th>\n",
       "      <th>RESULTADO_LAB</th>\n",
       "      <th>CLASIFICACION_FINAL</th>\n",
       "      <th>MIGRANTE</th>\n",
       "      <th>PAIS_NACIONALIDAD</th>\n",
       "      <th>PAIS_ORIGEN</th>\n",
       "      <th>UCI</th>\n",
       "    </tr>\n",
       "  </thead>\n",
       "  <tbody>\n",
       "    <tr>\n",
       "      <th>0</th>\n",
       "      <td>29/10/20</td>\n",
       "      <td>0a9217</td>\n",
       "      <td>1</td>\n",
       "      <td>4</td>\n",
       "      <td>9</td>\n",
       "      <td>2</td>\n",
       "      <td>9</td>\n",
       "      <td>9</td>\n",
       "      <td>5</td>\n",
       "      <td>2</td>\n",
       "      <td>...</td>\n",
       "      <td>2</td>\n",
       "      <td>2</td>\n",
       "      <td>99</td>\n",
       "      <td>1</td>\n",
       "      <td>1</td>\n",
       "      <td>3</td>\n",
       "      <td>99</td>\n",
       "      <td>MÃ©xico</td>\n",
       "      <td>97</td>\n",
       "      <td>2</td>\n",
       "    </tr>\n",
       "    <tr>\n",
       "      <th>1</th>\n",
       "      <td>29/10/20</td>\n",
       "      <td>1aa972</td>\n",
       "      <td>2</td>\n",
       "      <td>12</td>\n",
       "      <td>9</td>\n",
       "      <td>2</td>\n",
       "      <td>9</td>\n",
       "      <td>9</td>\n",
       "      <td>17</td>\n",
       "      <td>1</td>\n",
       "      <td>...</td>\n",
       "      <td>2</td>\n",
       "      <td>2</td>\n",
       "      <td>1</td>\n",
       "      <td>1</td>\n",
       "      <td>1</td>\n",
       "      <td>3</td>\n",
       "      <td>99</td>\n",
       "      <td>MÃ©xico</td>\n",
       "      <td>97</td>\n",
       "      <td>97</td>\n",
       "    </tr>\n",
       "    <tr>\n",
       "      <th>2</th>\n",
       "      <td>29/10/20</td>\n",
       "      <td>00f853</td>\n",
       "      <td>2</td>\n",
       "      <td>12</td>\n",
       "      <td>9</td>\n",
       "      <td>2</td>\n",
       "      <td>9</td>\n",
       "      <td>9</td>\n",
       "      <td>17</td>\n",
       "      <td>1</td>\n",
       "      <td>...</td>\n",
       "      <td>2</td>\n",
       "      <td>2</td>\n",
       "      <td>1</td>\n",
       "      <td>1</td>\n",
       "      <td>1</td>\n",
       "      <td>3</td>\n",
       "      <td>99</td>\n",
       "      <td>MÃ©xico</td>\n",
       "      <td>97</td>\n",
       "      <td>97</td>\n",
       "    </tr>\n",
       "    <tr>\n",
       "      <th>3</th>\n",
       "      <td>29/10/20</td>\n",
       "      <td>1315ae</td>\n",
       "      <td>2</td>\n",
       "      <td>12</td>\n",
       "      <td>11</td>\n",
       "      <td>1</td>\n",
       "      <td>11</td>\n",
       "      <td>11</td>\n",
       "      <td>27</td>\n",
       "      <td>1</td>\n",
       "      <td>...</td>\n",
       "      <td>2</td>\n",
       "      <td>2</td>\n",
       "      <td>2</td>\n",
       "      <td>1</td>\n",
       "      <td>1</td>\n",
       "      <td>3</td>\n",
       "      <td>99</td>\n",
       "      <td>MÃ©xico</td>\n",
       "      <td>97</td>\n",
       "      <td>97</td>\n",
       "    </tr>\n",
       "  </tbody>\n",
       "</table>\n",
       "<p>4 rows × 38 columns</p>\n",
       "</div>"
      ],
      "text/plain": [
       "  FECHA_ACTUALIZACION ID_REGISTRO  ORIGEN  SECTOR  ENTIDAD_UM  SEXO  \\\n",
       "0            29/10/20      0a9217       1       4           9     2   \n",
       "1            29/10/20      1aa972       2      12           9     2   \n",
       "2            29/10/20      00f853       2      12           9     2   \n",
       "3            29/10/20      1315ae       2      12          11     1   \n",
       "\n",
       "   ENTIDAD_NAC  ENTIDAD_RES  MUNICIPIO_RES  TIPO_PACIENTE  ... RENAL_CRONICA  \\\n",
       "0            9            9              5              2  ...             2   \n",
       "1            9            9             17              1  ...             2   \n",
       "2            9            9             17              1  ...             2   \n",
       "3           11           11             27              1  ...             2   \n",
       "\n",
       "  TABAQUISMO OTRO_CASO  TOMA_MUESTRA  RESULTADO_LAB  CLASIFICACION_FINAL  \\\n",
       "0          2        99             1              1                    3   \n",
       "1          2         1             1              1                    3   \n",
       "2          2         1             1              1                    3   \n",
       "3          2         2             1              1                    3   \n",
       "\n",
       "   MIGRANTE  PAIS_NACIONALIDAD  PAIS_ORIGEN  UCI  \n",
       "0        99            MÃ©xico           97    2  \n",
       "1        99            MÃ©xico           97   97  \n",
       "2        99            MÃ©xico           97   97  \n",
       "3        99            MÃ©xico           97   97  \n",
       "\n",
       "[4 rows x 38 columns]"
      ]
     },
     "execution_count": 2,
     "metadata": {},
     "output_type": "execute_result"
    }
   ],
   "source": [
    "#Random Forest feature importance\n",
    "from sklearn.model_selection import train_test_split\n",
    "from sklearn.ensemble import RandomForestRegressor\n",
    "from sklearn.inspection import permutation_importance\n",
    "from matplotlib import pyplot as plt\n",
    "import pandas as pd \n",
    "\n",
    "\n",
    "df = pd.read_csv('201029COVID19MEXICO.csv',encoding='latin1')\n",
    "df.head(4)\n",
    "\n",
    "#Y = distinctDF.filter(['SEX','AGE','NEUMONIA', 'PREGNANT','DIABETES', 'EPOC', 'ASTHMA', 'INMUSUPR','HYPERTENSION','OTHER_DISEASE','CARDIOVASCULAR','OBESITY','RENAL_CRONIC','TOBACCO'])\n",
    "#Y = distinctDF.selectExpr('SEX','AGE','NEUMONIA', 'PREGNANT','DIABETES', 'EPOC', 'ASTHMA', 'INMUSUPR',\n",
    "                          #'HYPERTENSION','OTHER_DISEASE','CARDIOVASCULAR','OBESITY','RENAL_CRONIC','TOBACCO')\n",
    "#Y = df.iloc[:, -1].values\n",
    "#print(Y)\n",
    "\n",
    "#X_train, X_test, y_train, y_test = train_test_split(X, Y, test_size=0.25, random_state=12)"
   ]
  },
  {
   "cell_type": "code",
   "execution_count": 3,
   "metadata": {},
   "outputs": [],
   "source": [
    "data = df.rename(columns={'SEXO': 'SEX',\n",
    "                            'Age' : 'AGE',\n",
    "                              'INTUBADO' : 'INTUBED',\n",
    "                        \"NEUMONIA\": \"NEUMONIA\",\n",
    "                        \"Pregnant\": \"PREGNANT\",\n",
    "                       \"DIABETES\": \"DIABETES\",\n",
    "                      \"EPOC\" : \"EPOC\",\n",
    "                       \"ASMA\" : \"ASTHMA\",\n",
    "                       \"INMUSUPR\":\"INMUSUPR\",\n",
    "                       \"HIPERTENSION\":\"HYPERTENSION\",\n",
    "                       \"CARDIOVASCULAR\":\"CARDIOVASCULAR\",\n",
    "                       \"OBESIDAD\":\"OBESITY\",\n",
    "                       \"RENAL_CRONICA\": \"RENAL_CRONIC\",\n",
    "                       \"OTRA_COM\": \"OTHER_DISEASE\",\n",
    "                      \"TABAQUISMO\":\"TOBACCO\",\n",
    "                       \"OTRO_CASO\": \"CONTACT_OTHER_COVID\",\n",
    "                       \"CLASIFICACION_FINAL\": \"CLASSIFICACION_FINAL\",\n",
    "                       \"UCI\":\"ICU\",\n",
    "                       \"RESULTADO_LAB\":\"LAB_RESULT\",\n",
    "                        \"FECHA_DEF\":\"DEATH\",\n",
    "                         'TIPO_PACIENTE': 'PATIENT_TYPE'     \n",
    "                             })\n"
   ]
  },
  {
   "cell_type": "code",
   "execution_count": 9,
   "metadata": {},
   "outputs": [
    {
     "name": "stdout",
     "output_type": "stream",
     "text": [
      "0          2\n",
      "1          2\n",
      "2          2\n",
      "3          2\n",
      "4          2\n",
      "          ..\n",
      "1048570    2\n",
      "1048571    2\n",
      "1048572    2\n",
      "1048573    2\n",
      "1048574    2\n",
      "Name: Native, Length: 1048575, dtype: int64\n",
      "         PATIENT_TYPE  SEX  AGE  NEUMONIA  PREGNANT  DIABETES  EPOC  ASTHMA  \\\n",
      "0                   2    2   94         2        97         2     2       2   \n",
      "1                   1    2   66         2        97         1     2       2   \n",
      "2                   1    2   29         2        97         2     2       2   \n",
      "3                   1    1   56         2         2         2     2       2   \n",
      "4                   1    1   55         2         2         1     2       2   \n",
      "...               ...  ...  ...       ...       ...       ...   ...     ...   \n",
      "1048570             1    2   21         2        97         2     2       2   \n",
      "1048571             2    1   72         2         2         2     1       2   \n",
      "1048572             1    1   28         2         1         2     2       2   \n",
      "1048573             1    2   21         2        97         2     2       2   \n",
      "1048574             1    1   47         2         2         2     2       2   \n",
      "\n",
      "         INMUSUPR  HYPERTENSION  CARDIOVASCULAR  OBESITY  RENAL_CRONIC  \\\n",
      "0               2             2               1        2             2   \n",
      "1               2             1               2        2             2   \n",
      "2               2             2               2        2             2   \n",
      "3               2             2               2        2             2   \n",
      "4               2             1               2        1             2   \n",
      "...           ...           ...             ...      ...           ...   \n",
      "1048570         2             2               2        2             2   \n",
      "1048571         2             2               2        2             2   \n",
      "1048572         2             2               2        2             2   \n",
      "1048573         2             2               2        2             2   \n",
      "1048574         2             1               2        2             2   \n",
      "\n",
      "         OTHER_DISEASE  TOBACCO  CONTACT_OTHER_COVID  \n",
      "0                    2        2                   99  \n",
      "1                    2        2                    1  \n",
      "2                    2        2                    1  \n",
      "3                    2        2                    2  \n",
      "4                    2        2                   99  \n",
      "...                ...      ...                  ...  \n",
      "1048570              2        2                    1  \n",
      "1048571              2        1                   99  \n",
      "1048572              2        2                    1  \n",
      "1048573              2        2                    2  \n",
      "1048574              2        2                   99  \n",
      "\n",
      "[1048575 rows x 16 columns]\n"
     ]
    }
   ],
   "source": [
    "#patient type is #9\n",
    "Y = data.iloc[:,19]\n",
    "print(Y)\n",
    "\n",
    "X = data[['PATIENT_TYPE','SEX', 'AGE','NEUMONIA','PREGNANT','DIABETES','EPOC','ASTHMA','INMUSUPR','HYPERTENSION','CARDIOVASCULAR','OBESITY','RENAL_CRONIC','OTHER_DISEASE','TOBACCO','CONTACT_OTHER_COVID']]\n",
    "print(X)\n",
    "\n",
    "X_train, X_test, y_train, y_test = train_test_split(X, Y, test_size=0.25, random_state=12)"
   ]
  },
  {
   "cell_type": "code",
   "execution_count": 10,
   "metadata": {},
   "outputs": [
    {
     "data": {
      "text/plain": [
       "RandomForestRegressor(bootstrap=True, ccp_alpha=0.0, criterion='mse',\n",
       "                      max_depth=None, max_features='auto', max_leaf_nodes=None,\n",
       "                      max_samples=None, min_impurity_decrease=0.0,\n",
       "                      min_impurity_split=None, min_samples_leaf=1,\n",
       "                      min_samples_split=2, min_weight_fraction_leaf=0.0,\n",
       "                      n_estimators=100, n_jobs=None, oob_score=False,\n",
       "                      random_state=None, verbose=0, warm_start=False)"
      ]
     },
     "execution_count": 10,
     "metadata": {},
     "output_type": "execute_result"
    }
   ],
   "source": [
    "rf = RandomForestRegressor(n_estimators=100)\n",
    "rf.fit(X_train, y_train)"
   ]
  },
  {
   "cell_type": "code",
   "execution_count": 16,
   "metadata": {},
   "outputs": [
    {
     "name": "stdout",
     "output_type": "stream",
     "text": [
      "Random Forest Regression Accuracy:  0.08803967805606283\n"
     ]
    }
   ],
   "source": [
    "accuracy = rf.score(X_train,y_train)\n",
    "print( 'Random Forest Regression Accuracy: ', accuracy)"
   ]
  },
  {
   "cell_type": "code",
   "execution_count": 12,
   "metadata": {},
   "outputs": [],
   "source": [
    "import numpy as np \n",
    "import seaborn as sns\n",
    "\n",
    "def plot_feature_importance(importance,names,model_type):\n",
    "\n",
    "    #Create arrays from feature importance and feature names\n",
    "    feature_importance = np.array(importance)\n",
    "    feature_names = np.array(names)\n",
    "\n",
    "    #Create a DataFrame using a Dictionary\n",
    "    data={'feature_names':feature_names,'feature_importance':feature_importance}\n",
    "    fi_df = pd.DataFrame(data)\n",
    "\n",
    "    #Sort the DataFrame in order decreasing feature importance\n",
    "    fi_df.sort_values(by=['feature_importance'], ascending=False,inplace=True)\n",
    "\n",
    "    #Define size of bar plot\n",
    "    plt.figure(figsize=(10,8))\n",
    "    #Plot Searborn bar chart\n",
    "    sns.barplot(x=fi_df['feature_importance'], y=fi_df['feature_names'])\n",
    "    #Add chart labels\n",
    "    plt.title(model_type + 'FEATURE IMPORTANCE')\n",
    "    plt.xlabel('FEATURE IMPORTANCE')\n",
    "    plt.ylabel('FEATURE NAMES')"
   ]
  },
  {
   "cell_type": "code",
   "execution_count": 13,
   "metadata": {},
   "outputs": [
    {
     "data": {
      "image/png": "[encoded data removed]",
      "text/plain": [
       "<Figure size 720x576 with 1 Axes>"
      ]
     },
     "metadata": {
      "needs_background": "light"
     },
     "output_type": "display_data"
    }
   ],
   "source": [
    "plot_feature_importance(rf.feature_importances_,X.columns,'RANDOM FOREST REGRESSOR ')"
   ]
  },
  {
   "cell_type": "code",
   "execution_count": 14,
   "metadata": {},
   "outputs": [
    {
     "data": {
      "text/plain": [
       "0.9546318054199219"
      ]
     },
     "execution_count": 14,
     "metadata": {},
     "output_type": "execute_result"
    }
   ],
   "source": [
    "# Import needed packages\n",
    "import numpy as np\n",
    "import pandas as pd\n",
    "import matplotlib.pyplot as plt\n",
    "import seaborn as sns\n",
    "\n",
    "from sklearn.model_selection import train_test_split\n",
    "from sklearn.ensemble import RandomForestClassifier\n",
    "from sklearn.metrics import accuracy_score, confusion_matrix, classification_report\n",
    "\n",
    "\n",
    "\n",
    "# Make predictions for the test set\n",
    "forest = RandomForestClassifier()\n",
    "forest.fit(X_train, y_train)\n",
    "y_pred_test = forest.predict(X_test)\n",
    "accuracy_score(y_test, y_pred_test)"
   ]
  },
  {
   "cell_type": "code",
   "execution_count": 15,
   "metadata": {},
   "outputs": [
    {
     "data": {
      "image/png": "[encoded data removed]",
      "text/plain": [
       "<Figure size 720x576 with 1 Axes>"
      ]
     },
     "metadata": {
      "needs_background": "light"
     },
     "output_type": "display_data"
    }
   ],
   "source": [
    "plot_feature_importance(forest.feature_importances_,X.columns,'RANDOM FOREST CLASSIFIER ')"
   ]
  },
  {
   "cell_type": "code",
   "execution_count": null,
   "metadata": {},
   "outputs": [],
   "source": []
  }
 ],
 "metadata": {
  "kernelspec": {
   "display_name": "conda_python3",
   "language": "python",
   "name": "conda_python3"
  },
  "language_info": {
   "codemirror_mode": {
    "name": "ipython",
    "version": 3
   },
   "file_extension": ".py",
   "mimetype": "text/x-python",
   "name": "python",
   "nbconvert_exporter": "python",
   "pygments_lexer": "ipython3",
   "version": "3.6.10"
  }
 },
 "nbformat": 4,
 "nbformat_minor": 4
}
