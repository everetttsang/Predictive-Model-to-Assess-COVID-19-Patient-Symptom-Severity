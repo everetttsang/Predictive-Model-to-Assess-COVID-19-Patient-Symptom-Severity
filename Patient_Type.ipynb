{
 "cells": [
  {
   "cell_type": "code",
   "execution_count": 1,
   "metadata": {},
   "outputs": [
    {
     "name": "stdout",
     "output_type": "stream",
     "text": [
      "Success - the MySageMakerInstance is in the us-west-2 region. You will use the 433757028032.dkr.ecr.us-west-2.amazonaws.com/xgboost:latest container for your SageMaker endpoint.\n"
     ]
    }
   ],
   "source": [
    "# import libraries\n",
    "import boto3, re, sys, math, json, os, sagemaker, urllib.request\n",
    "from sagemaker import get_execution_role\n",
    "import numpy as np                                \n",
    "import pandas as pd                               \n",
    "import matplotlib.pyplot as plt                   \n",
    "from IPython.display import Image                 \n",
    "from IPython.display import display               \n",
    "from time import gmtime, strftime                 \n",
    "from sagemaker.predictor import csv_serializer\n",
    "\n",
    "\n",
    "# Define IAM role\n",
    "role = get_execution_role()\n",
    "prefix = 'sagemaker/DEMO-xgboost-dm'\n",
    "containers = {'us-west-2': '433757028032.dkr.ecr.us-west-2.amazonaws.com/xgboost:latest',\n",
    "              'us-east-1': '811284229777.dkr.ecr.us-east-1.amazonaws.com/xgboost:latest',\n",
    "              'us-east-2': '825641698319.dkr.ecr.us-east-2.amazonaws.com/xgboost:latest',\n",
    "              'eu-west-1': '685385470294.dkr.ecr.eu-west-1.amazonaws.com/xgboost:latest'} # each region has its XGBoost container\n",
    "my_region = boto3.session.Session().region_name # set the region of the instance\n",
    "print(\"Success - the MySageMakerInstance is in the \" + my_region + \" region. You will use the \" + containers[my_region] + \" container for your SageMaker endpoint.\")"
   ]
  },
  {
   "cell_type": "code",
   "execution_count": 2,
   "metadata": {},
   "outputs": [
    {
     "name": "stdout",
     "output_type": "stream",
     "text": [
      "S3 error:  An error occurred (BucketAlreadyOwnedByYou) when calling the CreateBucket operation: Your previous request to create the named bucket succeeded and you already own it.\n"
     ]
    }
   ],
   "source": [
    "bucket_name = 'projectdatasetcovid' # <--- CHANGE THIS VARIABLE TO A UNIQUE NAME FOR YOUR BUCKET\n",
    "s3 = boto3.resource('s3')\n",
    "try:\n",
    "    if  my_region == 'us-east-1':\n",
    "      s3.create_bucket(Bucket=bucket_name)\n",
    "    else: \n",
    "      s3.create_bucket(Bucket=bucket_name, CreateBucketConfiguration={ 'LocationConstraint': my_region })\n",
    "    print('S3 bucket created successfully')\n",
    "except Exception as e:\n",
    "    print('S3 error: ',e)"
   ]
  },
  {
   "cell_type": "code",
   "execution_count": 3,
   "metadata": {},
   "outputs": [
    {
     "name": "stdout",
     "output_type": "stream",
     "text": [
      "Success: 201029COVID19MEXICO.csv\n"
     ]
    }
   ],
   "source": [
    "try:\n",
    "  urllib.request.urlretrieve (\"https://projectdatasetcovid.s3-us-west-2.amazonaws.com/201029COVID19MEXICO.csv\",\"201029COVID19MEXICO.csv\")\n",
    "  print('Success: 201029COVID19MEXICO.csv')\n",
    "except Exception as e:\n",
    "  print('Data load error: ',e)"
   ]
  },
  {
   "cell_type": "code",
   "execution_count": 4,
   "metadata": {},
   "outputs": [],
   "source": [
    "import pyspark\n",
    "from pyspark import SparkContext\n",
    "from pyspark.sql import Row\n",
    "from pyspark.sql import SQLContext\n",
    "\n",
    "sc = SparkContext.getOrCreate()\n",
    "sqlContext = SQLContext(sc)"
   ]
  },
  {
   "cell_type": "code",
   "execution_count": 5,
   "metadata": {},
   "outputs": [],
   "source": [
    "#from pyspark.sql import SQLContext\n",
    "url = \"201029COVID19MEXICO.csv\"\n",
    "from pyspark import SparkFiles\n",
    "sc.addFile(url)\n",
    "sqlContext = SQLContext(sc)"
   ]
  },
  {
   "cell_type": "code",
   "execution_count": 15,
   "metadata": {},
   "outputs": [],
   "source": [
    "df = sqlContext.read.csv(SparkFiles.get(\"201029COVID19MEXICO.csv\"), header=True, inferSchema= True)"
   ]
  },
  {
   "cell_type": "code",
   "execution_count": 16,
   "metadata": {},
   "outputs": [
    {
     "name": "stdout",
     "output_type": "stream",
     "text": [
      "root\n",
      " |-- FECHA_ACTUALIZACION: string (nullable = true)\n",
      " |-- ID_REGISTRO: string (nullable = true)\n",
      " |-- ORIGEN: integer (nullable = true)\n",
      " |-- SECTOR: integer (nullable = true)\n",
      " |-- ENTIDAD_UM: integer (nullable = true)\n",
      " |-- SEXO: integer (nullable = true)\n",
      " |-- ENTIDAD_NAC: integer (nullable = true)\n",
      " |-- ENTIDAD_RES: integer (nullable = true)\n",
      " |-- MUNICIPIO_RES: integer (nullable = true)\n",
      " |-- TIPO_PACIENTE: integer (nullable = true)\n",
      " |-- FECHA_INGRESO: string (nullable = true)\n",
      " |-- FECHA_SINTOMAS: string (nullable = true)\n",
      " |-- FECHA_DEF: string (nullable = true)\n",
      " |-- INTUBADO: integer (nullable = true)\n",
      " |-- NEUMONIA: integer (nullable = true)\n",
      " |-- Age: integer (nullable = true)\n",
      " |-- NACIONALIDAD: integer (nullable = true)\n",
      " |-- Pregnant: integer (nullable = true)\n",
      " |-- HABLA_LENGUA_INDIG: integer (nullable = true)\n",
      " |-- Native: integer (nullable = true)\n",
      " |-- DIABETES: integer (nullable = true)\n",
      " |-- EPOC: integer (nullable = true)\n",
      " |-- ASMA: integer (nullable = true)\n",
      " |-- INMUSUPR: integer (nullable = true)\n",
      " |-- HIPERTENSION: integer (nullable = true)\n",
      " |-- OTRA_COM: integer (nullable = true)\n",
      " |-- CARDIOVASCULAR: integer (nullable = true)\n",
      " |-- OBESIDAD: integer (nullable = true)\n",
      " |-- RENAL_CRONICA: integer (nullable = true)\n",
      " |-- TABAQUISMO: integer (nullable = true)\n",
      " |-- OTRO_CASO: integer (nullable = true)\n",
      " |-- TOMA_MUESTRA: integer (nullable = true)\n",
      " |-- RESULTADO_LAB: integer (nullable = true)\n",
      " |-- CLASIFICACION_FINAL: integer (nullable = true)\n",
      " |-- MIGRANTE: integer (nullable = true)\n",
      " |-- PAIS_NACIONALIDAD: string (nullable = true)\n",
      " |-- PAIS_ORIGEN: string (nullable = true)\n",
      " |-- UCI: integer (nullable = true)\n",
      "\n"
     ]
    }
   ],
   "source": [
    "df.printSchema()"
   ]
  },
  {
   "cell_type": "code",
   "execution_count": 17,
   "metadata": {},
   "outputs": [
    {
     "name": "stdout",
     "output_type": "stream",
     "text": [
      "root\n",
      " |-- PATIENT_TYPE: integer (nullable = true)\n",
      " |-- SEX: integer (nullable = true)\n",
      " |-- AGE: integer (nullable = true)\n",
      " |-- INTUBED: integer (nullable = true)\n",
      " |-- NEUMONIA: integer (nullable = true)\n",
      " |-- PREGNANT: integer (nullable = true)\n",
      " |-- DIABETES: integer (nullable = true)\n",
      " |-- EPOC: integer (nullable = true)\n",
      " |-- ASTHMA: integer (nullable = true)\n",
      " |-- INMUSUPR: integer (nullable = true)\n",
      " |-- HYPERTENSION: integer (nullable = true)\n",
      " |-- CARDIOVASCULAR: integer (nullable = true)\n",
      " |-- OBESITY: integer (nullable = true)\n",
      " |-- RENAL_CRONIC: integer (nullable = true)\n",
      " |-- OTHER_DISEASE: integer (nullable = true)\n",
      " |-- TOBACCO: integer (nullable = true)\n",
      " |-- CONTACT_OTHER_COVID: integer (nullable = true)\n",
      " |-- CLASSIFICACION_FINAL: integer (nullable = true)\n",
      " |-- ICU: integer (nullable = true)\n",
      " |-- LAB_RESULT: integer (nullable = true)\n",
      " |-- DEATH: string (nullable = true)\n",
      "\n"
     ]
    }
   ],
   "source": [
    "import pyspark.sql.functions as F\n",
    "#df1 = df.withColumnRenamed(\"TIPO_PACIENTE\",\"Patient_Type\")\\.withColumnRenamed(\"SEXO\",\"Sex\")\n",
    "\n",
    "df1 = df.selectExpr(\"TIPO_PACIENTE as PATIENT_TYPE\",\n",
    "                   \"SEXO as SEX\",\n",
    "                   \"Age as AGE\",\n",
    "                   \"INTUBADO as INTUBED\",\n",
    "                    \"NEUMONIA as NEUMONIA\",\n",
    "                    \"Pregnant as PREGNANT\",\n",
    "                   \"DIABETES as DIABETES\",\n",
    "                  \"EPOC as EPOC\",\n",
    "                   \"ASMA as ASTHMA\",\n",
    "                   \"INMUSUPR as INMUSUPR\",\n",
    "                   \"HIPERTENSION as HYPERTENSION\",\n",
    "                   \"CARDIOVASCULAR as CARDIOVASCULAR\",\n",
    "                   \"OBESIDAD as OBESITY\",\n",
    "                   \"RENAL_CRONICA as RENAL_CRONIC\",\n",
    "                   \"OTRA_COM as OTHER_DISEASE\",\n",
    "                  \"TABAQUISMO as TOBACCO\",\n",
    "                   \"OTRO_CASO as CONTACT_OTHER_COVID\",\n",
    "                   \"CLASIFICACION_FINAL as CLASSIFICACION_FINAL\",\n",
    "                   \"UCI as ICU\",\n",
    "                   \"RESULTADO_LAB as LAB_RESULT\",\n",
    "                    \"FECHA_DEF as DEATH\"\n",
    "                  )\n",
    "df1.printSchema()"
   ]
  },
  {
   "cell_type": "code",
   "execution_count": 18,
   "metadata": {},
   "outputs": [
    {
     "name": "stdout",
     "output_type": "stream",
     "text": [
      "+------------+---+---+-------+--------+--------+--------+----+------+--------+------------+--------------+-------+------------+-------------+-------+-------------------+--------------------+---+----------+-----+\n",
      "|PATIENT_TYPE|SEX|AGE|INTUBED|NEUMONIA|PREGNANT|DIABETES|EPOC|ASTHMA|INMUSUPR|HYPERTENSION|CARDIOVASCULAR|OBESITY|RENAL_CRONIC|OTHER_DISEASE|TOBACCO|CONTACT_OTHER_COVID|CLASSIFICACION_FINAL|ICU|LAB_RESULT|DEATH|\n",
      "+------------+---+---+-------+--------+--------+--------+----+------+--------+------------+--------------+-------+------------+-------------+-------+-------------------+--------------------+---+----------+-----+\n",
      "|           2|  2| 94|    0.0|     0.0|     0.0|     0.0| 0.0|   0.0|     0.0|         0.0|           1.0|    0.0|         0.0|          0.0|    0.0|                NaN|                   3|0.0|       1.0|    1|\n",
      "|           1|  2| 66|    NaN|     0.0|     0.0|     1.0| 0.0|   0.0|     0.0|         1.0|           0.0|    0.0|         0.0|          0.0|    0.0|                1.0|                   3|NaN|       1.0|    0|\n",
      "|           1|  2| 29|    NaN|     0.0|     0.0|     0.0| 0.0|   0.0|     0.0|         0.0|           0.0|    0.0|         0.0|          0.0|    0.0|                1.0|                   3|NaN|       1.0|    0|\n",
      "|           1|  1| 56|    NaN|     0.0|     0.0|     0.0| 0.0|   0.0|     0.0|         0.0|           0.0|    0.0|         0.0|          0.0|    0.0|                0.0|                   3|NaN|       1.0|    0|\n",
      "|           1|  1| 55|    NaN|     0.0|     0.0|     1.0| 0.0|   0.0|     0.0|         1.0|           0.0|    1.0|         0.0|          0.0|    0.0|                NaN|                   3|NaN|       1.0|    0|\n",
      "|           1|  2| 75|    NaN|     0.0|     0.0|     1.0| 0.0|   0.0|     0.0|         0.0|           1.0|    0.0|         0.0|          0.0|    0.0|                0.0|                   3|NaN|       1.0|    0|\n",
      "|           1|  2| 23|    NaN|     0.0|     0.0|     0.0| 0.0|   0.0|     0.0|         0.0|           0.0|    0.0|         0.0|          0.0|    0.0|                0.0|                   3|NaN|       1.0|    0|\n",
      "|           1|  1| 28|    NaN|     0.0|     0.0|     0.0| 0.0|   0.0|     0.0|         0.0|           0.0|    0.0|         0.0|          0.0|    0.0|                0.0|                   3|NaN|       1.0|    0|\n",
      "|           1|  1| 47|    NaN|     0.0|     0.0|     0.0| 0.0|   0.0|     0.0|         0.0|           0.0|    0.0|         0.0|          0.0|    0.0|                1.0|                   3|NaN|       1.0|    0|\n",
      "|           2|  2| 58|    0.0|     1.0|     0.0|     1.0| 1.0|   0.0|     0.0|         1.0|           0.0|    0.0|         1.0|          0.0|    0.0|                NaN|                   3|1.0|       1.0|    1|\n",
      "+------------+---+---+-------+--------+--------+--------+----+------+--------+------------+--------------+-------+------------+-------------+-------+-------------------+--------------------+---+----------+-----+\n",
      "only showing top 10 rows\n",
      "\n"
     ]
    }
   ],
   "source": [
    "from pyspark.sql.functions import col, when\n",
    "\n",
    "#changed DEATH TO 1 or 0\n",
    "\n",
    "#If yes ->1, No -> 0 and Missing/NA -> 2\n",
    "df2 = df1.withColumn(\"PREGNANT\",when(col(\"PREGNANT\") == \"2\", 0).when(col(\"PREGNANT\") == \"1\", 1).when(col(\"SEX\") == \"2\", 0).otherwise(np.nan))\n",
    "df2 = df2.withColumn(\"NEUMONIA\",when(col(\"NEUMONIA\") == \"2\", 0).when(col(\"NEUMONIA\") == \"1\", 1).otherwise(np.nan))\n",
    "df2 = df2.withColumn(\"INTUBED\",when(col(\"INTUBED\") == \"2\", 0).when(col(\"INTUBED\") == \"1\", 1).otherwise(np.nan))\n",
    "df2 = df2.withColumn(\"DIABETES\",when(col(\"DIABETES\") == \"2\", 0).when(col(\"DIABETES\") == \"1\", 1).otherwise(np.nan))\n",
    "df2 = df2.withColumn(\"EPOC\",when(col(\"EPOC\") == \"2\", 0).when(col(\"EPOC\") == \"1\", 1).otherwise(np.nan))\n",
    "df2 = df2.withColumn(\"ASTHMA\",when(col(\"ASTHMA\") == \"2\", 0).when(col(\"ASTHMA\") == \"1\", 1).otherwise(np.nan))\n",
    "df2 = df2.withColumn(\"INMUSUPR\",when(col(\"INMUSUPR\") == \"2\", 0).when(col(\"INMUSUPR\") == \"1\", 1).otherwise(np.nan))\n",
    "df2 = df2.withColumn(\"HYPERTENSION\",when(col(\"HYPERTENSION\") == \"2\", 0).when(col(\"HYPERTENSION\") == \"1\", 1).otherwise(np.nan))\n",
    "df2 = df2.withColumn(\"OTHER_DISEASE\",when(col(\"OTHER_DISEASE\") == \"2\", 0).when(col(\"OTHER_DISEASE\") == \"1\", 1).otherwise(np.nan))\n",
    "df2 = df2.withColumn(\"CARDIOVASCULAR\",when(col(\"CARDIOVASCULAR\") == \"2\", 0).when(col(\"CARDIOVASCULAR\") == \"1\", 1).otherwise(np.nan))\n",
    "df2 = df2.withColumn(\"OBESITY\",when(col(\"OBESITY\") == \"2\", 0).when(col(\"OBESITY\") == \"1\", 1).otherwise(np.nan))\n",
    "df2 = df2.withColumn(\"RENAL_CRONIC\",when(col(\"RENAL_CRONIC\") == \"2\", 0).when(col(\"RENAL_CRONIC\") == \"1\", 1).otherwise(np.nan))\n",
    "df2 = df2.withColumn(\"TOBACCO\",when(col(\"TOBACCO\") == \"2\", 0).when(col(\"TOBACCO\") == \"1\", 1).otherwise(np.nan))\n",
    "#leave out contact_other_covid\n",
    "df2 = df2.withColumn(\"CONTACT_OTHER_COVID\",when(col(\"CONTACT_OTHER_COVID\") == \"2\", 0).when(col(\"CONTACT_OTHER_COVID\") == \"1\", 1).otherwise(np.nan))\n",
    "df2 = df2.withColumn(\"ICU\",when(col(\"ICU\") == \"2\", 0).when(col(\"ICU\") == \"1\", 1).otherwise(np.nan))\n",
    "df2 = df2.withColumn(\"DEATH\",when(col(\"DEATH\") == \"9999-99-99\", 0).otherwise(\"1\"))\n",
    "df2 = df2.withColumn(\"LAB_RESULT\",when(col(\"LAB_RESULT\") == \"2\", 0).when(col(\"LAB_RESULT\") == \"1\", 1).otherwise(np.nan))\n",
    "\n",
    "df2.show(10);"
   ]
  },
  {
   "cell_type": "code",
   "execution_count": 19,
   "metadata": {},
   "outputs": [
    {
     "name": "stdout",
     "output_type": "stream",
     "text": [
      "+----------+------+\n",
      "|LAB_RESULT| count|\n",
      "+----------+------+\n",
      "|       NaN|150110|\n",
      "|       0.0|351525|\n",
      "|       1.0|546940|\n",
      "+----------+------+\n",
      "\n"
     ]
    }
   ],
   "source": [
    "df2.groupBy(\"LAB_RESULT\").count().sort(\"count\",ascending=True).show()"
   ]
  },
  {
   "cell_type": "code",
   "execution_count": 20,
   "metadata": {},
   "outputs": [],
   "source": [
    "df2 =df2.filter(df2[\"LAB_RESULT\"]==1)"
   ]
  },
  {
   "cell_type": "code",
   "execution_count": 21,
   "metadata": {},
   "outputs": [
    {
     "name": "stdout",
     "output_type": "stream",
     "text": [
      "+----------+------+\n",
      "|LAB_RESULT| count|\n",
      "+----------+------+\n",
      "|       1.0|546940|\n",
      "+----------+------+\n",
      "\n"
     ]
    }
   ],
   "source": [
    "df2.groupBy(\"LAB_RESULT\").count().sort(\"count\",ascending=True).show()"
   ]
  },
  {
   "cell_type": "code",
   "execution_count": 22,
   "metadata": {},
   "outputs": [
    {
     "name": "stdout",
     "output_type": "stream",
     "text": [
      "+--------+------+\n",
      "|PREGNANT| count|\n",
      "+--------+------+\n",
      "|     NaN|  1963|\n",
      "|     1.0|  3850|\n",
      "|     0.0|541127|\n",
      "+--------+------+\n",
      "\n",
      "+------------+---+---+-------+--------+--------+--------+----+------+--------+------------+--------------+-------+------------+-------------+-------+-------------------+--------------------+---+----------+-----+\n",
      "|PATIENT_TYPE|SEX|AGE|INTUBED|NEUMONIA|PREGNANT|DIABETES|EPOC|ASTHMA|INMUSUPR|HYPERTENSION|CARDIOVASCULAR|OBESITY|RENAL_CRONIC|OTHER_DISEASE|TOBACCO|CONTACT_OTHER_COVID|CLASSIFICACION_FINAL|ICU|LAB_RESULT|DEATH|\n",
      "+------------+---+---+-------+--------+--------+--------+----+------+--------+------------+--------------+-------+------------+-------------+-------+-------------------+--------------------+---+----------+-----+\n",
      "|           2|  2| 94|    0.0|     0.0|     0.0|     0.0| 0.0|   0.0|     0.0|         0.0|           1.0|    0.0|         0.0|          0.0|    0.0|                NaN|                   3|0.0|       1.0|    1|\n",
      "|           1|  2| 66|    NaN|     0.0|     0.0|     1.0| 0.0|   0.0|     0.0|         1.0|           0.0|    0.0|         0.0|          0.0|    0.0|                1.0|                   3|NaN|       1.0|    0|\n",
      "|           1|  2| 29|    NaN|     0.0|     0.0|     0.0| 0.0|   0.0|     0.0|         0.0|           0.0|    0.0|         0.0|          0.0|    0.0|                1.0|                   3|NaN|       1.0|    0|\n",
      "|           1|  2| 75|    NaN|     0.0|     0.0|     1.0| 0.0|   0.0|     0.0|         0.0|           1.0|    0.0|         0.0|          0.0|    0.0|                0.0|                   3|NaN|       1.0|    0|\n",
      "|           1|  2| 23|    NaN|     0.0|     0.0|     0.0| 0.0|   0.0|     0.0|         0.0|           0.0|    0.0|         0.0|          0.0|    0.0|                0.0|                   3|NaN|       1.0|    0|\n",
      "|           2|  2| 58|    0.0|     1.0|     0.0|     1.0| 1.0|   0.0|     0.0|         1.0|           0.0|    0.0|         1.0|          0.0|    0.0|                NaN|                   3|1.0|       1.0|    1|\n",
      "|           2|  2| 49|    0.0|     1.0|     0.0|     0.0| 0.0|   0.0|     0.0|         0.0|           0.0|    0.0|         0.0|          0.0|    0.0|                NaN|                   3|0.0|       1.0|    1|\n",
      "|           1|  2| 38|    NaN|     0.0|     0.0|     0.0| 0.0|   0.0|     0.0|         0.0|           0.0|    0.0|         0.0|          0.0|    0.0|                NaN|                   3|NaN|       1.0|    0|\n",
      "|           1|  2| 54|    NaN|     1.0|     0.0|     1.0| 0.0|   0.0|     0.0|         0.0|           0.0|    0.0|         0.0|          0.0|    0.0|                1.0|                   3|NaN|       1.0|    1|\n",
      "|           2|  2| 42|    0.0|     1.0|     0.0|     0.0| 0.0|   0.0|     0.0|         0.0|           0.0|    1.0|         0.0|          0.0|    0.0|                0.0|                   3|0.0|       1.0|    1|\n",
      "+------------+---+---+-------+--------+--------+--------+----+------+--------+------------+--------------+-------+------------+-------------+-------+-------------------+--------------------+---+----------+-----+\n",
      "only showing top 10 rows\n",
      "\n"
     ]
    }
   ],
   "source": [
    "#Sex -> Male =2 , so change the PREGNANT for MALE as '0'\n",
    "df2.groupBy(\"PREGNANT\").count().sort(\"count\",ascending=True).show()\n",
    "df2.filter(\"SEX == 2\").show(10)"
   ]
  },
  {
   "cell_type": "code",
   "execution_count": 23,
   "metadata": {},
   "outputs": [],
   "source": [
    "df2 = df2.withColumn(\"PATIENT_TYPE\",when(col(\"PATIENT_TYPE\") == \"2\", 1).when(col(\"PATIENT_TYPE\") == \"1\", 0))"
   ]
  },
  {
   "cell_type": "code",
   "execution_count": 24,
   "metadata": {},
   "outputs": [
    {
     "name": "stdout",
     "output_type": "stream",
     "text": [
      "546940\n"
     ]
    }
   ],
   "source": [
    "#converts the nan to unknown\n",
    "df_unknown_imputed = df2.fillna(0)\n",
    "\n",
    "df_unknown_imputed.cache()\n",
    "\n",
    "#number of entries on this dataset\n",
    "print(df_unknown_imputed.count())"
   ]
  },
  {
   "cell_type": "code",
   "execution_count": 25,
   "metadata": {},
   "outputs": [
    {
     "name": "stdout",
     "output_type": "stream",
     "text": [
      "root\n",
      " |-- PATIENT_TYPE: integer (nullable = true)\n",
      " |-- SEX: integer (nullable = true)\n",
      " |-- AGE: integer (nullable = true)\n",
      " |-- INTUBED: double (nullable = false)\n",
      " |-- NEUMONIA: double (nullable = false)\n",
      " |-- PREGNANT: double (nullable = false)\n",
      " |-- DIABETES: double (nullable = false)\n",
      " |-- EPOC: double (nullable = false)\n",
      " |-- ASTHMA: double (nullable = false)\n",
      " |-- INMUSUPR: double (nullable = false)\n",
      " |-- HYPERTENSION: double (nullable = false)\n",
      " |-- CARDIOVASCULAR: double (nullable = false)\n",
      " |-- OBESITY: double (nullable = false)\n",
      " |-- RENAL_CRONIC: double (nullable = false)\n",
      " |-- OTHER_DISEASE: double (nullable = false)\n",
      " |-- TOBACCO: double (nullable = false)\n",
      " |-- CONTACT_OTHER_COVID: double (nullable = false)\n",
      " |-- CLASSIFICACION_FINAL: integer (nullable = true)\n",
      " |-- ICU: double (nullable = false)\n",
      " |-- LAB_RESULT: double (nullable = false)\n",
      " |-- DEATH: string (nullable = false)\n",
      "\n"
     ]
    }
   ],
   "source": [
    "from pyspark.sql.types import *\n",
    "\n",
    "df_unknown_imputed.printSchema()\n",
    "df_unknown_imputed = df_unknown_imputed.withColumn(\"DEATH\", df_unknown_imputed[\"DEATH\"].cast(DoubleType()))"
   ]
  },
  {
   "cell_type": "code",
   "execution_count": 26,
   "metadata": {},
   "outputs": [],
   "source": [
    "distinctDF = df_unknown_imputed"
   ]
  },
  {
   "cell_type": "code",
   "execution_count": 27,
   "metadata": {},
   "outputs": [],
   "source": [
    "from pyspark.ml.feature import OneHotEncoderEstimator, StringIndexer, VectorAssembler\n",
    "categoricalColumns = ['SEX','NEUMONIA', 'PREGNANT','DIABETES', 'EPOC', 'ASTHMA', 'INMUSUPR','HYPERTENSION','OTHER_DISEASE',\n",
    "           'CARDIOVASCULAR','OBESITY','RENAL_CRONIC','TOBACCO']\n",
    "stages = []\n",
    "for categoricalCol in categoricalColumns:\n",
    "    stringIndexer = StringIndexer(inputCol = categoricalCol, outputCol = categoricalCol + 'Index')\n",
    "    encoder = OneHotEncoderEstimator(inputCols=[stringIndexer.getOutputCol()], outputCols=[categoricalCol + \"classVec\"])\n",
    "    stages += [stringIndexer, encoder]\n",
    "label_stringIdx = StringIndexer(inputCol = 'PATIENT_TYPE', outputCol = 'label')\n",
    "stages += [label_stringIdx]\n",
    "numericCols = ['AGE']\n",
    "assemblerInputs = [c + \"classVec\" for c in categoricalColumns] + numericCols\n",
    "assembler = VectorAssembler(inputCols=assemblerInputs, outputCol=\"features\")\n",
    "stages += [assembler]"
   ]
  },
  {
   "cell_type": "code",
   "execution_count": 28,
   "metadata": {},
   "outputs": [
    {
     "name": "stdout",
     "output_type": "stream",
     "text": [
      "root\n",
      " |-- label: double (nullable = false)\n",
      " |-- features: vector (nullable = true)\n",
      " |-- PATIENT_TYPE: integer (nullable = true)\n",
      " |-- SEX: integer (nullable = true)\n",
      " |-- AGE: integer (nullable = true)\n",
      " |-- INTUBED: double (nullable = false)\n",
      " |-- NEUMONIA: double (nullable = false)\n",
      " |-- PREGNANT: double (nullable = false)\n",
      " |-- DIABETES: double (nullable = false)\n",
      " |-- EPOC: double (nullable = false)\n",
      " |-- ASTHMA: double (nullable = false)\n",
      " |-- INMUSUPR: double (nullable = false)\n",
      " |-- HYPERTENSION: double (nullable = false)\n",
      " |-- CARDIOVASCULAR: double (nullable = false)\n",
      " |-- OBESITY: double (nullable = false)\n",
      " |-- RENAL_CRONIC: double (nullable = false)\n",
      " |-- OTHER_DISEASE: double (nullable = false)\n",
      " |-- TOBACCO: double (nullable = false)\n",
      " |-- CONTACT_OTHER_COVID: double (nullable = false)\n",
      " |-- CLASSIFICACION_FINAL: integer (nullable = true)\n",
      " |-- ICU: double (nullable = false)\n",
      " |-- LAB_RESULT: double (nullable = false)\n",
      " |-- DEATH: double (nullable = true)\n",
      "\n"
     ]
    }
   ],
   "source": [
    "from pyspark.ml import Pipeline\n",
    "\n",
    "\n",
    "cols = distinctDF.columns\n",
    "pipeline = Pipeline(stages = stages)\n",
    "pipelineModel = pipeline.fit(distinctDF)\n",
    "distinctDF = pipelineModel.transform(distinctDF)\n",
    "selectedCols = ['label', 'features'] + cols\n",
    "distinctDF = distinctDF.select(selectedCols)\n",
    "distinctDF.printSchema()"
   ]
  },
  {
   "cell_type": "code",
   "execution_count": 29,
   "metadata": {},
   "outputs": [
    {
     "name": "stdout",
     "output_type": "stream",
     "text": [
      "Training Dataset Count: 382200\n",
      "Test Dataset Count: 164740\n"
     ]
    }
   ],
   "source": [
    "train, test = distinctDF.randomSplit([0.7, 0.3], seed = 2018)\n",
    "print(\"Training Dataset Count: \" + str(train.count()))\n",
    "print(\"Test Dataset Count: \" + str(test.count()))"
   ]
  },
  {
   "cell_type": "code",
   "execution_count": 30,
   "metadata": {},
   "outputs": [],
   "source": [
    "from pyspark.ml.classification import LogisticRegression\n",
    "lr = LogisticRegression(featuresCol = 'features', labelCol = 'label', maxIter=10)\n",
    "lrModel = lr.fit(train)"
   ]
  },
  {
   "cell_type": "code",
   "execution_count": 31,
   "metadata": {},
   "outputs": [
    {
     "data": {
      "image/png": "[encoded data removed]",
      "text/plain": [
       "<Figure size 432x288 with 1 Axes>"
      ]
     },
     "metadata": {
      "needs_background": "light"
     },
     "output_type": "display_data"
    }
   ],
   "source": [
    "import matplotlib.pyplot as plt\n",
    "import numpy as np\n",
    "beta = np.sort(lrModel.coefficients)\n",
    "plt.plot(beta)\n",
    "plt.ylabel('Beta Coefficients')\n",
    "plt.show()"
   ]
  },
  {
   "cell_type": "code",
   "execution_count": 32,
   "metadata": {},
   "outputs": [
    {
     "data": {
      "image/png": "[encoded data removed]",
      "text/plain": [
       "<Figure size 432x288 with 1 Axes>"
      ]
     },
     "metadata": {
      "needs_background": "light"
     },
     "output_type": "display_data"
    },
    {
     "name": "stdout",
     "output_type": "stream",
     "text": [
      "Training set areaUnderROC: 0.8948099563437487\n"
     ]
    }
   ],
   "source": [
    "trainingSummary = lrModel.summary\n",
    "roc = trainingSummary.roc.toPandas()\n",
    "plt.plot(roc['FPR'],roc['TPR'])\n",
    "plt.ylabel('False Positive Rate')\n",
    "plt.xlabel('True Positive Rate')\n",
    "plt.title('ROC Curve')\n",
    "plt.show()\n",
    "print('Training set areaUnderROC: ' + str(trainingSummary.areaUnderROC))"
   ]
  },
  {
   "cell_type": "code",
   "execution_count": 33,
   "metadata": {},
   "outputs": [
    {
     "data": {
      "image/png": "[encoded data removed]",
      "text/plain": [
       "<Figure size 432x288 with 1 Axes>"
      ]
     },
     "metadata": {
      "needs_background": "light"
     },
     "output_type": "display_data"
    }
   ],
   "source": [
    "pr = trainingSummary.pr.toPandas()\n",
    "plt.plot(pr['recall'],pr['precision'])\n",
    "plt.ylabel('Precision')\n",
    "plt.xlabel('Recall')\n",
    "plt.show()"
   ]
  },
  {
   "cell_type": "code",
   "execution_count": 34,
   "metadata": {},
   "outputs": [
    {
     "name": "stdout",
     "output_type": "stream",
     "text": [
      "+---+---+-----+--------------------+----------+--------------------+\n",
      "|AGE|SEX|label|       rawPrediction|prediction|         probability|\n",
      "+---+---+-----+--------------------+----------+--------------------+\n",
      "| 49|  2|  0.0|[2.11386527691386...|       0.0|[0.89224352418184...|\n",
      "| 27|  2|  0.0|[2.60791461031395...|       0.0|[0.93136921677110...|\n",
      "| 50|  2|  0.0|[-0.6783595039405...|       1.0|[0.33662754261346...|\n",
      "| 39|  2|  0.0|[0.65353656520567...|       0.0|[0.65780697644361...|\n",
      "| 66|  2|  0.0|[-0.8033409278522...|       1.0|[0.30931131597191...|\n",
      "| 40|  2|  0.0|[1.38407213015373...|       0.0|[0.79964420599489...|\n",
      "| 31|  2|  0.0|[0.82818204310327...|       0.0|[0.69597039523828...|\n",
      "| 28|  2|  0.0|[0.75050375826425...|       0.0|[0.67928845566999...|\n",
      "| 33|  2|  0.0|[0.51791244828285...|       0.0|[0.62665949747979...|\n",
      "| 36|  2|  0.0|[0.37835766229401...|       0.0|[0.59347693005993...|\n",
      "+---+---+-----+--------------------+----------+--------------------+\n",
      "only showing top 10 rows\n",
      "\n"
     ]
    }
   ],
   "source": [
    "predictions = lrModel.transform(test)\n",
    "predictions.select('AGE', 'SEX', 'label', 'rawPrediction', 'prediction', 'probability').show(10)"
   ]
  },
  {
   "cell_type": "code",
   "execution_count": 35,
   "metadata": {},
   "outputs": [
    {
     "name": "stdout",
     "output_type": "stream",
     "text": [
      "Test Area Under ROC 0.8937702565410662\n"
     ]
    }
   ],
   "source": [
    "from pyspark.ml.evaluation import BinaryClassificationEvaluator\n",
    "evaluator = BinaryClassificationEvaluator()\n",
    "print('Test Area Under ROC', evaluator.evaluate(predictions))"
   ]
  },
  {
   "cell_type": "code",
   "execution_count": 36,
   "metadata": {},
   "outputs": [
    {
     "name": "stdout",
     "output_type": "stream",
     "text": [
      "+---+---+-----+------------------+----------+--------------------+\n",
      "|AGE|SEX|label|     rawPrediction|prediction|         probability|\n",
      "+---+---+-----+------------------+----------+--------------------+\n",
      "| 49|  2|  0.0|[222515.0,14593.0]|       0.0|[0.93845420652192...|\n",
      "| 27|  2|  0.0|[222515.0,14593.0]|       0.0|[0.93845420652192...|\n",
      "| 50|  2|  0.0|  [16221.0,3786.0]|       0.0|[0.81076623181886...|\n",
      "| 39|  2|  0.0|  [16221.0,3786.0]|       0.0|[0.81076623181886...|\n",
      "| 66|  2|  0.0|  [15569.0,8553.0]|       0.0|[0.64542741066246...|\n",
      "| 40|  2|  0.0|  [16221.0,3786.0]|       0.0|[0.81076623181886...|\n",
      "| 31|  2|  0.0|  [16221.0,3786.0]|       0.0|[0.81076623181886...|\n",
      "| 28|  2|  0.0|  [16221.0,3786.0]|       0.0|[0.81076623181886...|\n",
      "| 33|  2|  0.0|  [16221.0,3786.0]|       0.0|[0.81076623181886...|\n",
      "| 36|  2|  0.0|  [16221.0,3786.0]|       0.0|[0.81076623181886...|\n",
      "+---+---+-----+------------------+----------+--------------------+\n",
      "only showing top 10 rows\n",
      "\n"
     ]
    }
   ],
   "source": [
    "from pyspark.ml.classification import DecisionTreeClassifier\n",
    "dt = DecisionTreeClassifier(featuresCol = 'features', labelCol = 'label', maxDepth = 3)\n",
    "dtModel = dt.fit(train)\n",
    "predictions = dtModel.transform(test)\n",
    "predictions.select('AGE', 'SEX', 'label', 'rawPrediction', 'prediction', 'probability').show(10)"
   ]
  },
  {
   "cell_type": "code",
   "execution_count": 37,
   "metadata": {},
   "outputs": [
    {
     "name": "stdout",
     "output_type": "stream",
     "text": [
      "Test Area Under ROC: 0.6694405447695648\n"
     ]
    }
   ],
   "source": [
    "evaluator = BinaryClassificationEvaluator()\n",
    "print(\"Test Area Under ROC: \" + str(evaluator.evaluate(predictions, {evaluator.metricName: \"areaUnderROC\"})))"
   ]
  },
  {
   "cell_type": "code",
   "execution_count": 38,
   "metadata": {},
   "outputs": [
    {
     "name": "stdout",
     "output_type": "stream",
     "text": [
      "+---+---+-----+--------------------+----------+--------------------+\n",
      "|AGE|SEX|label|       rawPrediction|prediction|         probability|\n",
      "+---+---+-----+--------------------+----------+--------------------+\n",
      "| 49|  2|  0.0|[14.6071795274353...|       0.0|[0.73035897637176...|\n",
      "| 27|  2|  0.0|[14.0231493722025...|       0.0|[0.70115746861012...|\n",
      "| 50|  2|  0.0|[10.6844651274047...|       0.0|[0.53422325637023...|\n",
      "| 39|  2|  0.0|[14.8463572288204...|       0.0|[0.74231786144102...|\n",
      "| 66|  2|  0.0|[10.8977154945461...|       0.0|[0.54488577472730...|\n",
      "| 40|  2|  0.0|[14.2813006735131...|       0.0|[0.71406503367565...|\n",
      "| 31|  2|  0.0|[14.2235742856055...|       0.0|[0.71117871428027...|\n",
      "| 28|  2|  0.0|[14.2235742856055...|       0.0|[0.71117871428027...|\n",
      "| 33|  2|  0.0|[13.2684155953568...|       0.0|[0.66342077976784...|\n",
      "| 36|  2|  0.0|[12.8096117495233...|       0.0|[0.64048058747616...|\n",
      "+---+---+-----+--------------------+----------+--------------------+\n",
      "only showing top 10 rows\n",
      "\n"
     ]
    }
   ],
   "source": [
    "from pyspark.ml.classification import RandomForestClassifier\n",
    "rf = RandomForestClassifier(featuresCol = 'features', labelCol = 'label')\n",
    "rfModel = rf.fit(train)\n",
    "predictions = rfModel.transform(test)\n",
    "predictions.select('AGE', 'SEX', 'label', 'rawPrediction', 'prediction', 'probability').show(10)"
   ]
  },
  {
   "cell_type": "code",
   "execution_count": 39,
   "metadata": {},
   "outputs": [
    {
     "name": "stdout",
     "output_type": "stream",
     "text": [
      "Test Area Under ROC: 0.8990023075526982\n"
     ]
    }
   ],
   "source": [
    "evaluator = BinaryClassificationEvaluator()\n",
    "print(\"Test Area Under ROC: \" + str(evaluator.evaluate(predictions, {evaluator.metricName: \"areaUnderROC\"})))"
   ]
  },
  {
   "cell_type": "code",
   "execution_count": 40,
   "metadata": {},
   "outputs": [
    {
     "name": "stdout",
     "output_type": "stream",
     "text": [
      "+---+---+-----+--------------------+----------+--------------------+\n",
      "|AGE|SEX|label|       rawPrediction|prediction|         probability|\n",
      "+---+---+-----+--------------------+----------+--------------------+\n",
      "| 49|  2|  0.0|[0.77933247466558...|       0.0|[0.82616169842744...|\n",
      "| 27|  2|  0.0|[0.77868678914493...|       0.0|[0.82597615547140...|\n",
      "| 50|  2|  0.0|[-0.1952398741550...|       1.0|[0.40360181640095...|\n",
      "| 39|  2|  0.0|[0.88863171224808...|       0.0|[0.85535862524948...|\n",
      "| 66|  2|  0.0|[0.05080968949905...|       0.0|[0.52538300537806...|\n",
      "| 40|  2|  0.0|[0.68157849609232...|       0.0|[0.79627231260298...|\n",
      "| 31|  2|  0.0|[0.60193722092020...|       0.0|[0.76921330797212...|\n",
      "| 28|  2|  0.0|[0.60193722092020...|       0.0|[0.76921330797212...|\n",
      "| 33|  2|  0.0|[0.60193722092020...|       0.0|[0.76921330797212...|\n",
      "| 36|  2|  0.0|[0.60193722092020...|       0.0|[0.76921330797212...|\n",
      "+---+---+-----+--------------------+----------+--------------------+\n",
      "only showing top 10 rows\n",
      "\n"
     ]
    }
   ],
   "source": [
    "from pyspark.ml.classification import GBTClassifier\n",
    "gbt = GBTClassifier(maxIter=10)\n",
    "gbtModel = gbt.fit(train)\n",
    "predictions = gbtModel.transform(test)\n",
    "predictions.select('AGE', 'SEX', 'label', 'rawPrediction', 'prediction', 'probability').show(10)"
   ]
  },
  {
   "cell_type": "code",
   "execution_count": 41,
   "metadata": {},
   "outputs": [
    {
     "name": "stdout",
     "output_type": "stream",
     "text": [
      "Test Area Under ROC: 0.9003961999214344\n"
     ]
    }
   ],
   "source": [
    "evaluator = BinaryClassificationEvaluator()\n",
    "print(\"Test Area Under ROC: \" + str(evaluator.evaluate(predictions, {evaluator.metricName: \"areaUnderROC\"})))"
   ]
  },
  {
   "cell_type": "code",
   "execution_count": null,
   "metadata": {},
   "outputs": [],
   "source": []
  }
 ],
 "metadata": {
  "kernelspec": {
   "display_name": "conda_python3",
   "language": "python",
   "name": "conda_python3"
  },
  "language_info": {
   "codemirror_mode": {
    "name": "ipython",
    "version": 3
   },
   "file_extension": ".py",
   "mimetype": "text/x-python",
   "name": "python",
   "nbconvert_exporter": "python",
   "pygments_lexer": "ipython3",
   "version": "3.6.10"
  }
 },
 "nbformat": 4,
 "nbformat_minor": 4
}
